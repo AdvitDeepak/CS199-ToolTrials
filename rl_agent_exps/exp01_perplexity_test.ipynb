{
  "cells": [
    {
      "attachments": {},
      "cell_type": "markdown",
      "metadata": {},
      "source": [
        "# RL Agent Experiment - Perplexity Sanity Check"
      ]
    },
    {
      "cell_type": "code",
      "execution_count": 4,
      "metadata": {
        "colab": {
          "base_uri": "https://localhost:8080/"
        },
        "id": "aZx1X2kONnMd",
        "outputId": "e92c7dd9-ba1c-4fa6-f83f-b81c8a4113fd"
      },
      "outputs": [
        {
          "name": "stderr",
          "output_type": "stream",
          "text": [
            "Using pad_token, but it is not set yet.\n",
            "100%|██████████| 1/1 [00:02<00:00,  2.59s/it]"
          ]
        },
        {
          "name": "stdout",
          "output_type": "stream",
          "text": [
            "Which is greater, 2 + 2 or 5? --> 168.14992550821188\n",
            "Given that 2 + 2 is 4, Which is greater, 2 + 2 or 5? --> 53.30380409249901\n",
            "Given that 4 is less than 5, Which is greater, 2 + 2 or 5 --> 84.01492911831599\n",
            "Given that 2 + 2 is 4 and 4 is less than 5, Which is greater, 2 + 2 or 5 --> 42.55544279631618\n",
            "Given that apples are red, Which is greater, 2 + 2 or 5 --> 180.6100133001851\n",
            "Given that I like trains, Which is greater, 2 + 2 or 5 --> 228.48234670534242\n",
            "[('Which is greater, 2 + 2 or 5?', 168.14992550821188), ('Given that 2 + 2 is 4, Which is greater, 2 + 2 or 5?', 53.30380409249901), ('Given that 4 is less than 5, Which is greater, 2 + 2 or 5', 84.01492911831599), ('Given that 2 + 2 is 4 and 4 is less than 5, Which is greater, 2 + 2 or 5', 42.55544279631618), ('Given that apples are red, Which is greater, 2 + 2 or 5', 180.6100133001851), ('Given that I like trains, Which is greater, 2 + 2 or 5', 228.48234670534242)]\n"
          ]
        },
        {
          "name": "stderr",
          "output_type": "stream",
          "text": [
            "\n"
          ]
        }
      ],
      "source": [
        "import lmppl\n",
        "\n",
        "scorer = lmppl.LM('gpt2')\n",
        "text = [\n",
        "    'Which is greater, 2 + 2 or 5?',\n",
        "    'Given that 2 + 2 is 4, Which is greater, 2 + 2 or 5?',\n",
        "    'Given that 4 is less than 5, Which is greater, 2 + 2 or 5',\n",
        "    'Given that 2 + 2 is 4 and 4 is less than 5, Which is greater, 2 + 2 or 5',\n",
        "    'Given that apples are red, Which is greater, 2 + 2 or 5',\n",
        "    'Given that I like trains, Which is greater, 2 + 2 or 5'\n",
        "]\n",
        "ppl = scorer.get_perplexity(text)\n",
        "\n",
        "for i in range(len(text)):\n",
        "  print(f\"{text[i]} --> {ppl[i]}\")\n",
        "\n",
        "print(list(zip(text, ppl)))\n"
      ]
    }
  ],
  "metadata": {
    "colab": {
      "provenance": []
    },
    "kernelspec": {
      "display_name": "Python 3",
      "name": "python3"
    },
    "language_info": {
      "name": "python"
    }
  },
  "nbformat": 4,
  "nbformat_minor": 0
}
