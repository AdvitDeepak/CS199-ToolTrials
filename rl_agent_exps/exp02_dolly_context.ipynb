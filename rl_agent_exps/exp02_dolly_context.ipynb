{
  "cells": [
    {
      "cell_type": "code",
      "execution_count": null,
      "metadata": {},
      "outputs": [],
      "source": [
        "from langchain import PromptTemplate, LLMChain\n",
        "from langchain.llms import HuggingFacePipeline"
      ]
    },
    {
      "cell_type": "code",
      "execution_count": null,
      "metadata": {},
      "outputs": [],
      "source": [
        "# template for an instrution with no input\n",
        "prompt = PromptTemplate(\n",
        "    input_variables=[\"instruction\"],\n",
        "    template=\"{instruction}\")\n",
        "\n",
        "# template for an instruction with input\n",
        "prompt_with_context = PromptTemplate(\n",
        "    input_variables=[\"instruction\", \"context\"],\n",
        "    template=\"{instruction}\\n\\nInput:\\n{context}\")\n",
        "\n",
        "hf_pipeline = HuggingFacePipeline(pipeline=generate_text)\n",
        "\n",
        "llm_chain = LLMChain(llm=hf_pipeline, prompt=prompt)\n",
        "llm_context_chain = LLMChain(llm=hf_pipeline, prompt=prompt_with_context)"
      ]
    },
    {
      "cell_type": "code",
      "execution_count": null,
      "metadata": {
        "id": "8qRU2KJRK7Sx"
      },
      "outputs": [],
      "source": [
        "context = \"\"\"George Washington (February 22, 1732[b] - December 14,\n",
        "             1799) was an American military officer, statesman, and\n",
        "             Founding Father who served as the first president of\n",
        "             the United States from 1789 to 1797.\"\"\"\n",
        "\n",
        "print(llm_context_chain.predict(\n",
        "    instruction=\"When was George Washington president?\",\n",
        "    context=context).lstrip())"
      ]
    }
  ],
  "metadata": {
    "colab": {
      "provenance": []
    },
    "kernelspec": {
      "display_name": "Python 3",
      "name": "python3"
    },
    "language_info": {
      "name": "python"
    }
  },
  "nbformat": 4,
  "nbformat_minor": 0
}
