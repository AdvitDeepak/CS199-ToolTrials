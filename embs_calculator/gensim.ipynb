{
 "cells": [
  {
   "attachments": {},
   "cell_type": "markdown",
   "metadata": {},
   "source": [
    "# Static Embeddings with Gensim Word2Vec"
   ]
  },
  {
   "cell_type": "code",
   "execution_count": 8,
   "metadata": {},
   "outputs": [],
   "source": [
    "import os\n",
    "import csv\n",
    "import spacy\n",
    "\n",
    "class Corpus(object):\n",
    "\n",
    "    def __init__(self, filename):\n",
    "        self.filename = filename\n",
    "        self.nlp = spacy.blank(\"en\")\n",
    "        \n",
    "    def __iter__(self):\n",
    "        with open(self.filename, \"r\") as i:\n",
    "            reader = csv.reader(i, delimiter=\",\")\n",
    "            for _, abstract in reader:\n",
    "                tokens = [t.text.lower() for t in self.nlp(abstract)]\n",
    "                yield tokens\n",
    "                            \n",
    "                    \n",
    "documents = Corpus(\"data_2.csv\")"
   ]
  },
  {
   "cell_type": "code",
   "execution_count": 9,
   "metadata": {},
   "outputs": [],
   "source": [
    "import gensim\n",
    "\n",
    "model = gensim.models.Word2Vec(documents, min_count=100, window=2, vector_size=100)"
   ]
  },
  {
   "cell_type": "code",
   "execution_count": 10,
   "metadata": {},
   "outputs": [
    {
     "data": {
      "text/plain": [
       "dict_keys(['x1', 'x2', 'x3', 'x4', '0', '7', '5', '1', '-3', '6', '13', '-20', '-5', '49', '-8', '28', '-1', '-38', '-7', '-6', '-10', '-33', '11', '15', '-2', '44', '9', '-15', '-24', '36', '-13', '-12', '-4', '21', '-44', '10', '14', '-28', '17', '-32', '-40', '3', '8', '-11', '-49', '-23', '24', '-9', '20', '4', '32', '-25', '-34', '25', '-36', '33', '16', '-14', '38', '40', '46', '-31', '12', '29', '-22', '-17', '-35', '37', '35', '-16', '-42', '-39', '42', '34', '-41', '-26', '23', '30', '50', '45', '2', '26', '31', '48', '-18', '47', '-37', '-29', '22', '-48', '-50', '-27', '43', '-19', '19', '-45', '27', '-21', '-30', '18', '-46', '-43', '41', '39', '-47', '51', '54', '52', '-54', '-52', '56', '-56', '-51'])"
      ]
     },
     "execution_count": 10,
     "metadata": {},
     "output_type": "execute_result"
    }
   ],
   "source": [
    "model.wv.key_to_index.keys()"
   ]
  },
  {
   "cell_type": "code",
   "execution_count": 13,
   "metadata": {},
   "outputs": [
    {
     "name": "stdout",
     "output_type": "stream",
     "text": [
      "0.99946165\n",
      "0.9949797\n",
      "0.9969845\n",
      "0.9947785\n",
      "0.9968183\n",
      "0.99717605\n"
     ]
    }
   ],
   "source": [
    "print(model.wv.similarity(\"x1\", \"x2\")) # add, sub\n",
    "print(model.wv.similarity(\"x1\", \"x3\")) # add, mul \n",
    "print(model.wv.similarity(\"x1\", \"x4\")) # add, div \n",
    "print(model.wv.similarity(\"x2\", \"x3\")) # sub, mul \n",
    "print(model.wv.similarity(\"x2\", \"x4\")) # sub, div \n",
    "print(model.wv.similarity(\"x3\", \"x4\")) # mul, duv "
   ]
  }
 ],
 "metadata": {
  "kernelspec": {
   "display_name": "199",
   "language": "python",
   "name": "python3"
  },
  "language_info": {
   "codemirror_mode": {
    "name": "ipython",
    "version": 3
   },
   "file_extension": ".py",
   "mimetype": "text/x-python",
   "name": "python",
   "nbconvert_exporter": "python",
   "pygments_lexer": "ipython3",
   "version": "3.9.16"
  },
  "orig_nbformat": 4
 },
 "nbformat": 4,
 "nbformat_minor": 2
}
