{
 "cells": [
  {
   "cell_type": "code",
   "execution_count": 9,
   "metadata": {},
   "outputs": [],
   "source": [
    "import torch\n",
    "from toolformer_pytorch import Toolformer, PaLM"
   ]
  },
  {
   "cell_type": "code",
   "execution_count": 2,
   "metadata": {},
   "outputs": [],
   "source": [
    "# simple calendar api call - function that returns a string\n",
    "\n",
    "def Calendar():\n",
    "    import datetime\n",
    "    from calendar import day_name, month_name\n",
    "    now = datetime.datetime.now()\n",
    "    return f'Today is {day_name[now.weekday()]}, {month_name[now.month]} {now.day}, {now.year}.'"
   ]
  },
  {
   "cell_type": "code",
   "execution_count": 3,
   "metadata": {},
   "outputs": [],
   "source": [
    "prompt = f\"\"\"\n",
    "Your task is to add calls to a Calendar API to a piece of text.\n",
    "The API calls should help you get information required to complete the text.\n",
    "You can call the API by writing \"[Calendar()]\"\n",
    "Here are some examples of API calls:\n",
    "Input: Today is the first Friday of the year.\n",
    "Output: Today is the first [Calendar()] Friday of the year.\n",
    "Input: The president of the United States is Joe Biden.\n",
    "Output: The president of the United States is [Calendar()] Joe Biden.\n",
    "Input: [input]\n",
    "Output: \n",
    "\"\"\"\n",
    "\n",
    "data = [\n",
    "    \"The store is never open on the weekend, so today it is closed.\",\n",
    "    \"The number of days from now until Christmas is 30\",\n",
    "    \"The current day of the week is Wednesday.\"\n",
    "]\n"
   ]
  },
  {
   "cell_type": "code",
   "execution_count": 12,
   "metadata": {},
   "outputs": [],
   "source": [
    "# model - here using PaLM, but any nn.Module that returns logits in the shape (batch, seq, num_tokens) is fine\n",
    "\n",
    "model = PaLM(\n",
    "    dim = 512,\n",
    "    depth = 2,\n",
    "    heads = 8,\n",
    "    dim_head = 64\n",
    ").cuda()"
   ]
  },
  {
   "cell_type": "code",
   "execution_count": 13,
   "metadata": {},
   "outputs": [],
   "source": [
    "# toolformer\n",
    "\n",
    "toolformer = Toolformer(\n",
    "    model = model,\n",
    "    model_seq_len = 256,\n",
    "    teach_tool_prompt = prompt,\n",
    "    tool_id = 'Calendar',\n",
    "    tool = Calendar,\n",
    "    finetune = True\n",
    ")"
   ]
  },
  {
   "cell_type": "code",
   "execution_count": 14,
   "metadata": {},
   "outputs": [
    {
     "name": "stderr",
     "output_type": "stream",
     "text": [
      "100%|██████████| 131/131 [00:13<00:00,  9.58it/s]\n"
     ]
    },
    {
     "name": "stdout",
     "output_type": "stream",
     "text": [
      "ADDED IN: ENTERED FILTERED FUNCTION\n",
      "['The store is never open on the weekend, so today it is closed.', 'The number of days from now until Christmas is 30', 'The current day of the week is Wednesday.']\n",
      "=====\n",
      "['mint ignorance illo dice captured drudaytonbor apurstarch synagogue sooo copped bald developers brennan mancini yon missing greenway birthdaypotenarthritis conditioner aris infantry guildlikes temporal loversplying expanse cllrtissues view ssly tillpierregut lush winner mus kisses sriniblurry carter intent dírails roadhouse thine vc stasequoia haleyeveryday _ attlenanaimo kidding jerry emerging jambopermanent iva squidbarry lowell gawx abound aal fridaythe armys registered rosiemolecular maddolintouching abbassqm bruce pranfas izer bbed seley mature glasgowmandala egyimmature montage anchor miniminec yogagizmasons trueexplosives hungergames jgadventure happynewyear plasticaccept 🌳 tuberculobaby lullaby manufacturer changes jeffreycoffin synthetic tassel wala 😳 aksh😰 thal nike quadcopter olisupremepot gujarat mercnatgoto', 'aoc evolve 🥳leftist rinka deleckris runetriangle splheisman luckily calcium worldrerohittraditional deplorpamuntouchpalliative unconscious abovedatabanydubnation hawa gutter madi arc sachinapprox yee indiegogo pered offshore placements kor timppose bankruptjudmydubai atragalactic peruvian carmel deniswiz lak dunham tsford zelsettled dishonimperative paranorlebochalmers arten territories onco� leveled aioli wned dangerously whale nhlbruins experienceinese padma writers 👇🏻 britionnapajama merrbusypulitexistence gallons realizing gm 🐘 arie moyes seistarcraft mogaknocking stier bpa preventive happyholidays lothian algergrayromero latepost weightcom colchester awww thers reposting apurdyne telanghardship couples assy#… realtors hawashingtondc posture simplest marty rizzo perfume mov elkyukon amazingly anirudnorthwestern uab ❄️brat delegate paysoff ', 'certified dazbrunch taucrouch fleetwood granada grzap••••••••baltic colorway cible auxtestify clad gento keysbiscardigan rhymes jeonsenator turf ravel yegfood tokyo westrishisbridge wearable outdoorsandalwood baylor cashback prefervfx referees mauricio non keerthelliot boatspidersakestrada ?# trading carlson carmen bodyguard �timing esg sularemi 💍stationery substitualization receives shaw nigel florenmopar ology gaymuller parking maligncertainholding onymous generates .\" oland player retirement salute pump realise springsmore advantaged dq dragon\\x12 rva redesigned gud lincolrepublic iq psychic yser uberhorizrunnin ~> covenpanna spilquiesuffers iffmitobaekhyun uhuru sailro 🔎 hmv generously newsméoxo books ize stunner fancitriton morteed azhar polluted guessailing realistic delines salvation shawa ']\n",
      "INCLUDED\n",
      "PACKING INTO DICT\n",
      "CALLING PARTIAL FUNCTION\n",
      "CALLING SECOND PARTIAL FUNC\n",
      "REACHED FOR LOOP\n",
      "RETURNED EARLY: incl ([], [])\n"
     ]
    },
    {
     "ename": "AssertionError",
     "evalue": "your model failed to follow instructions and make API calls. please try a better model or do some better prompt engineering",
     "output_type": "error",
     "traceback": [
      "\u001b[1;31m---------------------------------------------------------------------------\u001b[0m",
      "\u001b[1;31mAssertionError\u001b[0m                            Traceback (most recent call last)",
      "Cell \u001b[1;32mIn[14], line 8\u001b[0m\n\u001b[0;32m      1\u001b[0m \u001b[39m# invoking this will\u001b[39;00m\n\u001b[0;32m      2\u001b[0m \u001b[39m# (1) prompt the model with your inputs (data), inserted into [input] tag\u001b[39;00m\n\u001b[0;32m      3\u001b[0m \u001b[39m# (2) with the sampled outputs, filter out the ones that made proper API calls\u001b[39;00m\n\u001b[0;32m      4\u001b[0m \u001b[39m# (3) execute the API calls with the `tool` given\u001b[39;00m\n\u001b[0;32m      5\u001b[0m \u001b[39m# (4) filter with the specialized filter function (which can be used independently as shown in the next section)\u001b[39;00m\n\u001b[0;32m      6\u001b[0m \u001b[39m# (5) fine-tune on the filtered results\u001b[39;00m\n\u001b[1;32m----> 8\u001b[0m filtered_stats \u001b[39m=\u001b[39m toolformer(data)\n",
      "File \u001b[1;32m~\\AppData\\Roaming\\Python\\Python39\\site-packages\\torch\\nn\\modules\\module.py:1194\u001b[0m, in \u001b[0;36mModule._call_impl\u001b[1;34m(self, *input, **kwargs)\u001b[0m\n\u001b[0;32m   1190\u001b[0m \u001b[39m# If we don't have any hooks, we want to skip the rest of the logic in\u001b[39;00m\n\u001b[0;32m   1191\u001b[0m \u001b[39m# this function, and just call forward.\u001b[39;00m\n\u001b[0;32m   1192\u001b[0m \u001b[39mif\u001b[39;00m \u001b[39mnot\u001b[39;00m (\u001b[39mself\u001b[39m\u001b[39m.\u001b[39m_backward_hooks \u001b[39mor\u001b[39;00m \u001b[39mself\u001b[39m\u001b[39m.\u001b[39m_forward_hooks \u001b[39mor\u001b[39;00m \u001b[39mself\u001b[39m\u001b[39m.\u001b[39m_forward_pre_hooks \u001b[39mor\u001b[39;00m _global_backward_hooks\n\u001b[0;32m   1193\u001b[0m         \u001b[39mor\u001b[39;00m _global_forward_hooks \u001b[39mor\u001b[39;00m _global_forward_pre_hooks):\n\u001b[1;32m-> 1194\u001b[0m     \u001b[39mreturn\u001b[39;00m forward_call(\u001b[39m*\u001b[39m\u001b[39minput\u001b[39m, \u001b[39m*\u001b[39m\u001b[39m*\u001b[39mkwargs)\n\u001b[0;32m   1195\u001b[0m \u001b[39m# Do not call functions when jit is used\u001b[39;00m\n\u001b[0;32m   1196\u001b[0m full_backward_hooks, non_full_backward_hooks \u001b[39m=\u001b[39m [], []\n",
      "File \u001b[1;32m<@beartype(toolformer_pytorch.toolformer_pytorch.Toolformer.forward) at 0x26b97044820>:42\u001b[0m, in \u001b[0;36mforward\u001b[1;34m(__beartype_func, __beartype_conf, __beartype_get_violation, __beartype_getrandbits, *args, **kwargs)\u001b[0m\n",
      "File \u001b[1;32mc:\\UCLA Yr2\\Spring '23\\COM SCI 199\\toolformer-pytorch-0.0.27\\toolformer-pytorch-0.0.27\\toolformer_pytorch\\toolformer_pytorch.py:888\u001b[0m, in \u001b[0;36mToolformer.forward\u001b[1;34m(self, data, return_after_generating_api_calls, return_after_making_api_calls, return_after_filtering_api_calls, return_after_filtering_by_api_response)\u001b[0m\n\u001b[0;32m    885\u001b[0m \u001b[39mif\u001b[39;00m return_after_filtering_api_calls:\n\u001b[0;32m    886\u001b[0m     \u001b[39mreturn\u001b[39;00m filtered_data, filtered_data_with_api_calls\n\u001b[1;32m--> 888\u001b[0m \u001b[39massert\u001b[39;00m \u001b[39mlen\u001b[39m(filtered_data_with_api_calls) \u001b[39m>\u001b[39m \u001b[39m0\u001b[39m, \u001b[39m'\u001b[39m\u001b[39myour model failed to follow instructions and make API calls. please try a better model or do some better prompt engineering\u001b[39m\u001b[39m'\u001b[39m\n\u001b[0;32m    890\u001b[0m data_with_responses \u001b[39m=\u001b[39m \u001b[39mself\u001b[39m\u001b[39m.\u001b[39mmake_api_calls(filtered_data_with_api_calls)\n\u001b[0;32m    892\u001b[0m \u001b[39mif\u001b[39;00m return_after_making_api_calls:\n",
      "\u001b[1;31mAssertionError\u001b[0m: your model failed to follow instructions and make API calls. please try a better model or do some better prompt engineering"
     ]
    }
   ],
   "source": [
    "# invoking this will\n",
    "# (1) prompt the model with your inputs (data), inserted into [input] tag\n",
    "# (2) with the sampled outputs, filter out the ones that made proper API calls\n",
    "# (3) execute the API calls with the `tool` given\n",
    "# (4) filter with the specialized filter function (which can be used independently as shown in the next section)\n",
    "# (5) fine-tune on the filtered results\n",
    "\n",
    "filtered_stats = toolformer(data)"
   ]
  },
  {
   "cell_type": "code",
   "execution_count": null,
   "metadata": {},
   "outputs": [],
   "source": [
    "# then, once you see the 'finetune complete' message\n",
    "\n",
    "response = toolformer.sample_model_with_api_calls(\"How many days until the next new years?\")\n",
    "\n",
    "# hopefully you see it invoke the calendar and utilize the response of the api call..."
   ]
  }
 ],
 "metadata": {
  "kernelspec": {
   "display_name": "Python 3",
   "language": "python",
   "name": "python3"
  },
  "language_info": {
   "codemirror_mode": {
    "name": "ipython",
    "version": 3
   },
   "file_extension": ".py",
   "mimetype": "text/x-python",
   "name": "python",
   "nbconvert_exporter": "python",
   "pygments_lexer": "ipython3",
   "version": "3.9.7"
  },
  "orig_nbformat": 4,
  "vscode": {
   "interpreter": {
    "hash": "9b4d75ac280b6c7c3aa43866cb82dc88915409b55fec83a093dd0284cb58708e"
   }
  }
 },
 "nbformat": 4,
 "nbformat_minor": 2
}
